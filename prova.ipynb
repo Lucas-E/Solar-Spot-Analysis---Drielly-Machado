{
 "cells": [
  {
   "cell_type": "markdown",
   "id": "62aa39da-2caa-4120-b862-c4f2b02a07a8",
   "metadata": {},
   "source": [
    "## Atividade avaliativa exigida pela disciplina de programação de computadores"
   ]
  },
  {
   "cell_type": "code",
   "execution_count": 1,
   "id": "b5895614-bef2-49ab-adc0-95ae704c3f48",
   "metadata": {},
   "outputs": [],
   "source": [
    "import math"
   ]
  },
  {
   "cell_type": "code",
   "execution_count": 2,
   "id": "33c7707a-5daf-4d81-a32a-4e6582a8a75c",
   "metadata": {},
   "outputs": [],
   "source": [
    "\n",
    "#populando o dicionario daily\n",
    "def populateByDay(path):\n",
    "    daily = {}\n",
    "    with open(f'{path}') as f:\n",
    "        for i in f:\n",
    "            linha = i.rstrip().replace(' ', '').split(';')\n",
    "\n",
    "            if(linha[0] in daily.keys()):\n",
    "                if(linha[1] in daily[linha[0]].keys()):\n",
    "                    daily[linha[0]][linha[1]][linha[2]] = {\n",
    "                        'total':linha[4],\n",
    "                        'std':linha[5],\n",
    "                        'numberOfObservations':linha[6]\n",
    "                    }\n",
    "                else:\n",
    "                    daily[linha[0]][linha[1]] = {}\n",
    "                    daily[linha[0]][linha[1]][linha[2]] = {\n",
    "                        'total':linha[4],\n",
    "                        'std':linha[5],\n",
    "                        'numberOfObservations':linha[6]\n",
    "                    }\n",
    "            else:\n",
    "                daily[linha[0]] = {}\n",
    "                daily[linha[0]][linha[1]] = {}\n",
    "                daily[linha[0]][linha[1]][linha[2]] = {\n",
    "                        'total':linha[4],\n",
    "                        'std':linha[5],\n",
    "                        'numberOfObservations':linha[6]\n",
    "                    }\n",
    "        \n",
    "        return daily\n",
    "            \n"
   ]
  },
  {
   "cell_type": "code",
   "execution_count": 3,
   "id": "e7bc6c71-3633-40d8-9466-b08b883d2e2a",
   "metadata": {},
   "outputs": [],
   "source": [
    "#populando o dicionario monthly\n",
    "def populateByMonth(path):\n",
    "    monthly = {}\n",
    "    with open(f'{path}') as f:\n",
    "        for i in f:\n",
    "            linha = i.rstrip().replace(' ', '').split(';')\n",
    "\n",
    "            if(linha[0] in monthly.keys()):\n",
    "                monthly[linha[0]][linha[1]] = {\n",
    "                    'total': linha[3],\n",
    "                    'std': linha[4],\n",
    "                    'numberOfObservations':linha[5]\n",
    "                }\n",
    "            else:\n",
    "                monthly[linha[0]] = {}\n",
    "                monthly[linha[0]][linha[1]] = {\n",
    "                    'total': linha[3],\n",
    "                    'std': linha[4],\n",
    "                    'numberOfObservations':linha[5]\n",
    "                }\n",
    "    return monthly"
   ]
  },
  {
   "cell_type": "code",
   "execution_count": 4,
   "id": "62744db6-f384-418d-bfe9-74ad15d9fdbf",
   "metadata": {},
   "outputs": [],
   "source": [
    "daily = populateByDay('./byDayCsv.csv')\n",
    "monthly = populateByMonth('./byMonthCsv.csv')"
   ]
  },
  {
   "cell_type": "code",
   "execution_count": 5,
   "id": "0361bec0-024f-42bb-aefa-3a9c2578683d",
   "metadata": {},
   "outputs": [],
   "source": [
    "def nonSpotInMonth(daily, year):\n",
    "    year = daily[year]\n",
    "    values = {}\n",
    "    count = 0\n",
    "    \n",
    "    for key, value in year.items():\n",
    "        values[key] = {\n",
    "            'totalDaysWithoutSpot':0\n",
    "        }\n",
    "        for keyDay, valueDay in value.items():\n",
    "            if(valueDay['total'] == '0' or valueDay['total'] == '-1'):\n",
    "                values[key]['totalDaysWithoutSpot'] = values[key]['totalDaysWithoutSpot'] + 1\n",
    "    return values\n",
    "            \n",
    "        "
   ]
  },
  {
   "cell_type": "code",
   "execution_count": 6,
   "id": "8ff9fb2b-5b3c-4b26-b68f-07e696009aee",
   "metadata": {},
   "outputs": [
    {
     "data": {
      "text/plain": [
       "{'01': {'totalDaysWithoutSpot': 23},\n",
       " '02': {'totalDaysWithoutSpot': 20},\n",
       " '03': {'totalDaysWithoutSpot': 19},\n",
       " '04': {'totalDaysWithoutSpot': 9},\n",
       " '05': {'totalDaysWithoutSpot': 6},\n",
       " '06': {'totalDaysWithoutSpot': 5},\n",
       " '07': {'totalDaysWithoutSpot': 10},\n",
       " '08': {'totalDaysWithoutSpot': 11},\n",
       " '09': {'totalDaysWithoutSpot': 12},\n",
       " '10': {'totalDaysWithoutSpot': 9},\n",
       " '11': {'totalDaysWithoutSpot': 21},\n",
       " '12': {'totalDaysWithoutSpot': 21}}"
      ]
     },
     "execution_count": 6,
     "metadata": {},
     "output_type": "execute_result"
    }
   ],
   "source": [
    "nonSpotInMonth(daily, '1818')"
   ]
  },
  {
   "cell_type": "code",
   "execution_count": 7,
   "id": "a94c630d-647d-43d2-8440-d9e6682944fe",
   "metadata": {},
   "outputs": [],
   "source": [
    "def mostDaysWithoutSpot(daily):\n",
    "    data = {\n",
    "        'year': '',\n",
    "        'month':'',\n",
    "        'daysWithoutSpot': 0\n",
    "    }\n",
    "    count = 0\n",
    "    month = ''\n",
    "    for key, value in daily.items():\n",
    "        for keyMonth, daysValues in value.items():\n",
    "            for keyDay, dayValue in daysValues.items():\n",
    "                if(dayValue['total'] == '0' or dayValue['total'] == '-1'):\n",
    "                    count = count + 1\n",
    "            if(data['daysWithoutSpot'] < count):\n",
    "                data['month'] = keyMonth\n",
    "                data['daysWithoutSpot'] = count\n",
    "                data['year'] = key\n",
    "                \n",
    "            count = 0\n",
    "    return data"
   ]
  },
  {
   "cell_type": "code",
   "execution_count": 8,
   "id": "94fd91cf-7eb9-4fba-aed7-5dfb369f9a65",
   "metadata": {},
   "outputs": [
    {
     "data": {
      "text/plain": [
       "{'year': '1822', 'month': '01', 'daysWithoutSpot': 31}"
      ]
     },
     "execution_count": 8,
     "metadata": {},
     "output_type": "execute_result"
    }
   ],
   "source": [
    "mostDaysWithoutSpot(daily)"
   ]
  },
  {
   "cell_type": "code",
   "execution_count": 9,
   "id": "91e5feec-48f3-48f1-88ef-f9dd78827643",
   "metadata": {},
   "outputs": [],
   "source": [
    "def mostDaysWithSpot(daily):\n",
    "    data = {\n",
    "        'year': '',\n",
    "        'month':'',\n",
    "        'daysWithSpot': 0,\n",
    "        \n",
    "    }\n",
    "    count = 0\n",
    "    month = ''\n",
    "    for key, value in daily.items():\n",
    "        for keyMonth, daysValues in value.items():\n",
    "            for keyDay, dayValue in daysValues.items():\n",
    "                if(dayValue['total'] != '0' and dayValue['total'] != '-1'):\n",
    "                    count = count + 1\n",
    "            if(data['daysWithSpot'] < count):\n",
    "                data['month'] = keyMonth\n",
    "                data['daysWithSpot'] = count\n",
    "                data['year'] = key\n",
    "            \n",
    "            count = 0\n",
    "    return data"
   ]
  },
  {
   "cell_type": "code",
   "execution_count": 10,
   "id": "5641dd26-1d32-4d1b-8be5-48038a16b0fc",
   "metadata": {},
   "outputs": [
    {
     "data": {
      "text/plain": [
       "{'year': '1827', 'month': '07', 'daysWithSpot': 31}"
      ]
     },
     "execution_count": 10,
     "metadata": {},
     "output_type": "execute_result"
    }
   ],
   "source": [
    "mostDaysWithSpot(daily)"
   ]
  },
  {
   "cell_type": "code",
   "execution_count": 11,
   "id": "96700440-b5a2-42dc-a435-a60a24f46281",
   "metadata": {},
   "outputs": [],
   "source": [
    "def maxByInterval(start, end, startMoth, endMonth, daily):\n",
    "    maximum = {\n",
    "        'year':0,\n",
    "        'month':0,\n",
    "        'day':0,\n",
    "        'max':0\n",
    "    }\n",
    "    minimum = {\n",
    "        'year':0,\n",
    "        'month':0,\n",
    "        'day':0,\n",
    "        'minimum':999999999999\n",
    "    }\n",
    "    for i in range(start, end):\n",
    "        year = daily[str(i)]\n",
    "        for monthKey, monthValue in year.items():\n",
    "            if(int(monthKey) >= startMoth or i > start):\n",
    "                for dayKey, dayValue in monthValue.items():\n",
    "                    if(int(dayValue['total']) > int(maximum['max'])):\n",
    "                        maximum['year'] = str(i)\n",
    "                        maximum['month'] = monthKey\n",
    "                        maximum['day'] = dayKey\n",
    "                        maximum['max'] = dayValue['total']\n",
    "                    elif(int(dayValue['total']) < int(minimum['minimum'])):\n",
    "                        minimum['year'] = str(i)\n",
    "                        minimum['month'] = monthKey\n",
    "                        minimum['day'] = dayKey\n",
    "                        minimum['minimum'] = dayValue['total']\n",
    "                if(int(monthKey) > end):\n",
    "                    break\n",
    "                \n",
    "    return {\n",
    "        'maximum':maximum,\n",
    "        'minimum':minimum\n",
    "    }"
   ]
  },
  {
   "cell_type": "code",
   "execution_count": 12,
   "id": "cb2e5664-6ebc-46a3-9121-42521dfbb6fb",
   "metadata": {},
   "outputs": [
    {
     "data": {
      "text/plain": [
       "{'maximum': {'year': '1957', 'month': '12', 'day': '24', 'max': '503'},\n",
       " 'minimum': {'year': '1900', 'month': '01', 'day': '04', 'minimum': '0'}}"
      ]
     },
     "execution_count": 12,
     "metadata": {},
     "output_type": "execute_result"
    }
   ],
   "source": [
    "maxByInterval(1900,1958,1,1,daily)"
   ]
  },
  {
   "cell_type": "markdown",
   "id": "1c321984-00ea-4c85-a72e-872224a6cef6",
   "metadata": {},
   "source": [
    "## Duas funções diferentes. Uma pega a média pelo arquivo de médias, a segunda calcula pelos dias no arquivo de dias"
   ]
  },
  {
   "cell_type": "code",
   "execution_count": 13,
   "id": "de0be318-d9d1-424b-803a-6720f312e9d1",
   "metadata": {},
   "outputs": [],
   "source": [
    "def monthlyMeanByYear(monthly, year):\n",
    "    means = {}\n",
    "    year = monthly[year]\n",
    "    for key, value in year.items():\n",
    "        means[key] = value['total']\n",
    "    return means"
   ]
  },
  {
   "cell_type": "code",
   "execution_count": 14,
   "id": "c08e3c2f-e3b3-4f4d-926f-3eb282091c42",
   "metadata": {},
   "outputs": [
    {
     "data": {
      "text/plain": [
       "{'01': '58.1',\n",
       " '02': '37.4',\n",
       " '03': '42.4',\n",
       " '04': '57.5',\n",
       " '05': '88.5',\n",
       " '06': '60.8',\n",
       " '07': '46.8',\n",
       " '08': '52.6',\n",
       " '09': '43.4',\n",
       " '10': '52.8',\n",
       " '11': '18.3',\n",
       " '12': '43.0'}"
      ]
     },
     "execution_count": 14,
     "metadata": {},
     "output_type": "execute_result"
    }
   ],
   "source": [
    "monthlyMeanByYear(monthly, '1818')"
   ]
  },
  {
   "cell_type": "code",
   "execution_count": 15,
   "id": "67986ba1-25f6-4a00-8ceb-2dd115044a23",
   "metadata": {},
   "outputs": [],
   "source": [
    "def monthlyMeanByYearDay(daily, year):\n",
    "    #pegar soma do total de manchas em um determinado mês e dividir pela quantidade de dias no mês\n",
    "    #fazer isso para o restante dos meses\n",
    "    \n",
    "    year = daily[year]\n",
    "    \n",
    "    totalDays = 0\n",
    "    totalSpots = 0\n",
    "    \n",
    "    means = {}\n",
    "    \n",
    "    for monthKey, monthDays in year.items():\n",
    "        for dayKey, dayValue in monthDays.items():\n",
    "            if(dayValue['total'] != '-1'):\n",
    "                totalSpots = totalSpots + int(dayValue['total'])\n",
    "                totalDays = totalDays + 1\n",
    "        means[monthKey] = totalSpots/totalDays\n",
    "        totalDays = 0\n",
    "        totalSpots = 0\n",
    "    return means"
   ]
  },
  {
   "cell_type": "code",
   "execution_count": 16,
   "id": "3293ffbc-c7aa-4178-8f6a-15c7077fe9bf",
   "metadata": {},
   "outputs": [
    {
     "data": {
      "text/plain": [
       "{'01': 58.125,\n",
       " '02': 37.42857142857143,\n",
       " '03': 42.357142857142854,\n",
       " '04': 57.523809523809526,\n",
       " '05': 88.48,\n",
       " '06': 60.8,\n",
       " '07': 46.76190476190476,\n",
       " '08': 52.55,\n",
       " '09': 43.388888888888886,\n",
       " '10': 52.77272727272727,\n",
       " '11': 18.333333333333332,\n",
       " '12': 43.0}"
      ]
     },
     "execution_count": 16,
     "metadata": {},
     "output_type": "execute_result"
    }
   ],
   "source": [
    "monthlyMeanByYearDay(daily, '1818')"
   ]
  },
  {
   "cell_type": "code",
   "execution_count": 17,
   "id": "ded4f351-78a1-4384-8e2c-e3c77fd31804",
   "metadata": {},
   "outputs": [],
   "source": [
    "def stdByMothlyObservation(monthly):\n",
    "    std = {}\n",
    "    \n",
    "    nSigma = []\n",
    "    n = 0\n",
    "    \n",
    "    \n",
    "    \n",
    "    for yearKey, yearMonth in monthly.items():\n",
    "        std[yearKey] = {}\n",
    "        for monthKey, monthValue in yearMonth.items():\n",
    "            \n",
    "            for dayKey, dayValue in monthValue.items():\n",
    "                nSigma.append(int(dayValue['numberOfObservations']) * (float(dayValue['std']) ** 2))\n",
    "                n = n + int(dayValue['numberOfObservations'])\n",
    "            if(n != 0):\n",
    "                std[yearKey][monthKey] = {\n",
    "                    'std':math.sqrt(sum(nSigma)/n)\n",
    "                }\n",
    "            else:\n",
    "                std[yearKey][monthKey] = {\n",
    "                    'std':-1\n",
    "                }\n",
    "                \n",
    "            n = 0\n",
    "            nSigma = []\n",
    "    return std"
   ]
  },
  {
   "cell_type": "markdown",
   "id": "af047ae4-f73a-43c2-8e86-3172619da60c",
   "metadata": {},
   "source": [
    "## Pegar média suave em intervalo de anos"
   ]
  },
  {
   "cell_type": "code",
   "execution_count": 18,
   "id": "823e986d-9253-4ce0-8a70-96f60aacdac2",
   "metadata": {},
   "outputs": [],
   "source": [
    "import itertools"
   ]
  },
  {
   "cell_type": "code",
   "execution_count": 131,
   "id": "ba226656-7217-4f67-aee7-4845e67e5bd5",
   "metadata": {
    "tags": []
   },
   "outputs": [],
   "source": [
    "def smoothedMeanByInterval(start, end, monthly):\n",
    "    a = {}\n",
    "    \n",
    "    months = []\n",
    "    \n",
    "    means=[]\n",
    "    \n",
    "    result = {}\n",
    "    \n",
    "    years = list(monthly.keys())\n",
    "    yearStart = int(years[0])\n",
    "    yearEnd = int(years[len(years)-1])\n",
    "    print(yearStart)\n",
    "\n",
    "    for key, value in monthly.items():\n",
    "        if(int(key) >= start-1 and int(key) <= end+1):\n",
    "            if(int(key) >= start and int(key) <= end):\n",
    "                result[key] = []\n",
    "            for monthKey, monthValue in value.items():\n",
    "                #if(key in result.keys()):\n",
    "                    #result[key][monthKey] = {\n",
    "                        #'smoothedMean':0\n",
    "                    #}\n",
    "                months.append(float(monthValue['total']))\n",
    "\n",
    "    if(start > yearStart and end < yearEnd):\n",
    "        for i in range(12, len(months) -12):\n",
    "            means.append((0.5*months[i-6] + months[i-5] + months[i-4] + months[i-3] + months[i-2] + months[i-1] + months[i] + months[i+1]+ months[i+2]+ months[i+3]+ months[i+4]+ months[i+5]+ months[i+6]*0.5)/12)\n",
    "    elif(start == yearStart and end < yearEnd):\n",
    "        for i in range(6, len(months) -12):\n",
    "            means.append((0.5*months[i-6] + months[i-5] + months[i-4] + months[i-3] + months[i-2] + months[i-1] + months[i] + months[i+1]+ months[i+2]+ months[i+3]+ months[i+4]+ months[i+5]+ months[i+6]*0.5)/12)\n",
    "    elif(start > yearStart and end == yearEnd):\n",
    "        for i in range(12, len(months) -6):\n",
    "            means.append((0.5*months[i-6] + months[i-5] + months[i-4] + months[i-3] + months[i-2] + months[i-1] + months[i] + months[i+1]+ months[i+2]+ months[i+3]+ months[i+4]+ months[i+5]+ months[i+6]*0.5)/12)\n",
    "    else:\n",
    "        for i in range(6, len(months) -6):\n",
    "            means.append((0.5*months[i-6] + months[i-5] + months[i-4] + months[i-3] + months[i-2] + months[i-1] + months[i] + months[i+1]+ months[i+2]+ months[i+3]+ months[i+4]+ months[i+5]+ months[i+6]*0.5)/12)\n",
    "\n",
    "    resultKeys = list(result.keys())\n",
    "    \n",
    "    for key, value in result.items():\n",
    "        if(resultKeys[0] == key):\n",
    "            for i in range(6, 12):\n",
    "                result[key].append(means.pop(0))\n",
    "        elif(resultKeys[len(resultKeys)-1] == key):\n",
    "            for i in range(6):\n",
    "                result[key].append(means.pop(0))\n",
    "        else:\n",
    "            for i in range(12):\n",
    "                result[key].append(means.pop(0))\n",
    "        #for monthKey, monthValue in value.items():\n",
    "            #result[key][monthKey]['smoothedMean'] = means.pop(0)\n",
    "    \n",
    "    return result"
   ]
  },
  {
   "cell_type": "code",
   "execution_count": 133,
   "id": "0c00f671-9661-4df6-8562-d50209a1e7d4",
   "metadata": {},
   "outputs": [
    {
     "name": "stdout",
     "output_type": "stream",
     "text": [
      "1749\n"
     ]
    }
   ],
   "source": [
    "means = smoothedMeanByInterval(2019,2022,monthly)"
   ]
  },
  {
   "cell_type": "code",
   "execution_count": 134,
   "id": "c0ff66b7-b103-4241-aab0-b4b91951a246",
   "metadata": {},
   "outputs": [
    {
     "data": {
      "text/plain": [
       "{'2019': [5.354166666666667,\n",
       "  4.983333333333333,\n",
       "  4.55,\n",
       "  4.270833333333334,\n",
       "  3.9000000000000004,\n",
       "  3.6500000000000004],\n",
       " '2020': [3.5208333333333335,\n",
       "  3.433333333333333,\n",
       "  3.079166666666667,\n",
       "  2.5875,\n",
       "  2.0208333333333335,\n",
       "  1.808333333333333,\n",
       "  2.2166666666666663,\n",
       "  2.7249999999999996,\n",
       "  2.995833333333333,\n",
       "  3.5666666666666664,\n",
       "  5.575,\n",
       "  7.891666666666667],\n",
       " '2021': [8.966666666666667,\n",
       "  9.475,\n",
       "  10.4625,\n",
       "  11.920833333333334,\n",
       "  13.600000000000001,\n",
       "  15.275,\n",
       "  17.25,\n",
       "  19.02916666666667,\n",
       "  21.745833333333334,\n",
       "  24.808333333333334,\n",
       "  25.770833333333332,\n",
       "  27.63333333333333],\n",
       " '2022': [31.35416666666666,\n",
       "  35.420833333333334,\n",
       "  40.175,\n",
       "  45.2125,\n",
       "  50.82916666666666,\n",
       "  55.854166666666664]}"
      ]
     },
     "execution_count": 134,
     "metadata": {},
     "output_type": "execute_result"
    }
   ],
   "source": [
    "means"
   ]
  }
 ],
 "metadata": {
  "kernelspec": {
   "display_name": "Python 3 (ipykernel)",
   "language": "python",
   "name": "python3"
  },
  "language_info": {
   "codemirror_mode": {
    "name": "ipython",
    "version": 3
   },
   "file_extension": ".py",
   "mimetype": "text/x-python",
   "name": "python",
   "nbconvert_exporter": "python",
   "pygments_lexer": "ipython3",
   "version": "3.10.7"
  }
 },
 "nbformat": 4,
 "nbformat_minor": 5
}
