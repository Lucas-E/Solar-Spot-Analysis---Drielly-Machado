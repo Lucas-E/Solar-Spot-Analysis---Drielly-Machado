{
 "cells": [
  {
   "cell_type": "markdown",
   "id": "62aa39da-2caa-4120-b862-c4f2b02a07a8",
   "metadata": {},
   "source": [
    "## Atividade avaliativa exigida pela disciplina de programação de computadores"
   ]
  },
  {
   "cell_type": "code",
   "execution_count": 38,
   "id": "dffae321-bf7a-4857-a810-73369ff1436f",
   "metadata": {},
   "outputs": [
    {
     "name": "stdout",
     "output_type": "stream",
     "text": [
      "Requirement already satisfied: matplotlib in ./venv/lib/python3.10/site-packages (3.6.2)\n",
      "Requirement already satisfied: pyparsing>=2.2.1 in ./venv/lib/python3.10/site-packages (from matplotlib) (3.0.9)\n",
      "Requirement already satisfied: numpy>=1.19 in ./venv/lib/python3.10/site-packages (from matplotlib) (1.23.5)\n",
      "Requirement already satisfied: kiwisolver>=1.0.1 in ./venv/lib/python3.10/site-packages (from matplotlib) (1.4.4)\n",
      "Requirement already satisfied: cycler>=0.10 in ./venv/lib/python3.10/site-packages (from matplotlib) (0.11.0)\n",
      "Requirement already satisfied: packaging>=20.0 in ./venv/lib/python3.10/site-packages (from matplotlib) (21.3)\n",
      "Requirement already satisfied: python-dateutil>=2.7 in ./venv/lib/python3.10/site-packages (from matplotlib) (2.8.2)\n",
      "Requirement already satisfied: fonttools>=4.22.0 in ./venv/lib/python3.10/site-packages (from matplotlib) (4.38.0)\n",
      "Requirement already satisfied: pillow>=6.2.0 in ./venv/lib/python3.10/site-packages (from matplotlib) (9.3.0)\n",
      "Requirement already satisfied: contourpy>=1.0.1 in ./venv/lib/python3.10/site-packages (from matplotlib) (1.0.6)\n",
      "Requirement already satisfied: six>=1.5 in ./venv/lib/python3.10/site-packages (from python-dateutil>=2.7->matplotlib) (1.16.0)\n",
      "\n",
      "\u001b[1m[\u001b[0m\u001b[34;49mnotice\u001b[0m\u001b[1;39;49m]\u001b[0m\u001b[39;49m A new release of pip available: \u001b[0m\u001b[31;49m22.2.2\u001b[0m\u001b[39;49m -> \u001b[0m\u001b[32;49m22.3.1\u001b[0m\n",
      "\u001b[1m[\u001b[0m\u001b[34;49mnotice\u001b[0m\u001b[1;39;49m]\u001b[0m\u001b[39;49m To update, run: \u001b[0m\u001b[32;49mpip install --upgrade pip\u001b[0m\n",
      "Note: you may need to restart the kernel to use updated packages.\n"
     ]
    }
   ],
   "source": [
    "pip install matplotlib"
   ]
  },
  {
   "cell_type": "code",
   "execution_count": 39,
   "id": "b5895614-bef2-49ab-adc0-95ae704c3f48",
   "metadata": {
    "tags": []
   },
   "outputs": [],
   "source": [
    "import math"
   ]
  },
  {
   "cell_type": "code",
   "execution_count": 36,
   "id": "6cf625f2-3168-4a06-8565-a06b18bf8610",
   "metadata": {},
   "outputs": [],
   "source": [
    "import matplotlib.pyplot as plt"
   ]
  },
  {
   "cell_type": "markdown",
   "id": "33724619-7cac-47da-bd2d-5a7e1395480a",
   "metadata": {},
   "source": [
    "## Função para popular variável em respeito aos dias"
   ]
  },
  {
   "cell_type": "code",
   "execution_count": 2,
   "id": "33c7707a-5daf-4d81-a32a-4e6582a8a75c",
   "metadata": {},
   "outputs": [],
   "source": [
    "\n",
    "#populando o dicionario daily\n",
    "def populateByDay(path):\n",
    "    daily = {}\n",
    "    with open(f'{path}') as f:\n",
    "        for i in f:\n",
    "            linha = i.rstrip().replace(' ', '').split(';')\n",
    "\n",
    "            if(linha[0] in daily.keys()):\n",
    "                if(linha[1] in daily[linha[0]].keys()):\n",
    "                    daily[linha[0]][linha[1]][linha[2]] = {\n",
    "                        'total':linha[4],\n",
    "                        'std':linha[5],\n",
    "                        'numberOfObservations':linha[6]\n",
    "                    }\n",
    "                else:\n",
    "                    daily[linha[0]][linha[1]] = {}\n",
    "                    daily[linha[0]][linha[1]][linha[2]] = {\n",
    "                        'total':linha[4],\n",
    "                        'std':linha[5],\n",
    "                        'numberOfObservations':linha[6]\n",
    "                    }\n",
    "            else:\n",
    "                daily[linha[0]] = {}\n",
    "                daily[linha[0]][linha[1]] = {}\n",
    "                daily[linha[0]][linha[1]][linha[2]] = {\n",
    "                        'total':linha[4],\n",
    "                        'std':linha[5],\n",
    "                        'numberOfObservations':linha[6]\n",
    "                    }\n",
    "        \n",
    "        return daily\n",
    "            \n"
   ]
  },
  {
   "cell_type": "markdown",
   "id": "51df29ab-a390-49ec-8e31-5c79a7118c9a",
   "metadata": {},
   "source": [
    "## Função para popular variável por mês"
   ]
  },
  {
   "cell_type": "code",
   "execution_count": 3,
   "id": "e7bc6c71-3633-40d8-9466-b08b883d2e2a",
   "metadata": {},
   "outputs": [],
   "source": [
    "#populando o dicionario monthly\n",
    "def populateByMonth(path):\n",
    "    monthly = {}\n",
    "    with open(f'{path}') as f:\n",
    "        for i in f:\n",
    "            linha = i.rstrip().replace(' ', '').split(';')\n",
    "\n",
    "            if(linha[0] in monthly.keys()):\n",
    "                monthly[linha[0]][linha[1]] = {\n",
    "                    'total': linha[3],\n",
    "                    'std': linha[4],\n",
    "                    'numberOfObservations':linha[5]\n",
    "                }\n",
    "            else:\n",
    "                monthly[linha[0]] = {}\n",
    "                monthly[linha[0]][linha[1]] = {\n",
    "                    'total': linha[3],\n",
    "                    'std': linha[4],\n",
    "                    'numberOfObservations':linha[5]\n",
    "                }\n",
    "    return monthly"
   ]
  },
  {
   "cell_type": "code",
   "execution_count": 4,
   "id": "62744db6-f384-418d-bfe9-74ad15d9fdbf",
   "metadata": {},
   "outputs": [],
   "source": [
    "daily = populateByDay('./byDayCsv.csv')\n",
    "monthly = populateByMonth('./byMonthCsv.csv')"
   ]
  },
  {
   "cell_type": "markdown",
   "id": "092072d5-79a1-4f7e-b209-480ad21516cc",
   "metadata": {},
   "source": [
    "## Função para contar dias sem manchas solares em determinado ano"
   ]
  },
  {
   "cell_type": "code",
   "execution_count": 5,
   "id": "0361bec0-024f-42bb-aefa-3a9c2578683d",
   "metadata": {},
   "outputs": [],
   "source": [
    "def nonSpotInMonth(daily, year):\n",
    "    if(year < 1818 or year > 2022):\n",
    "        raise Exception('Year out of range. Try using years ranging from 1818 to 2022')\n",
    "    else:\n",
    "        year = daily[str(year)]\n",
    "        values = {}\n",
    "        count = 0\n",
    "\n",
    "        for key, value in year.items():\n",
    "            values[key] = {\n",
    "                'totalDaysWithoutSpot':0\n",
    "            }\n",
    "            for keyDay, valueDay in value.items():\n",
    "                if(valueDay['total'] == '0'):\n",
    "                    values[key]['totalDaysWithoutSpot'] = values[key]['totalDaysWithoutSpot'] + 1\n",
    "        return values\n",
    "            \n",
    "        "
   ]
  },
  {
   "cell_type": "code",
   "execution_count": 6,
   "id": "8ff9fb2b-5b3c-4b26-b68f-07e696009aee",
   "metadata": {},
   "outputs": [
    {
     "data": {
      "text/plain": [
       "{'01': {'totalDaysWithoutSpot': 0},\n",
       " '02': {'totalDaysWithoutSpot': 6},\n",
       " '03': {'totalDaysWithoutSpot': 2},\n",
       " '04': {'totalDaysWithoutSpot': 0},\n",
       " '05': {'totalDaysWithoutSpot': 0},\n",
       " '06': {'totalDaysWithoutSpot': 0},\n",
       " '07': {'totalDaysWithoutSpot': 0},\n",
       " '08': {'totalDaysWithoutSpot': 0},\n",
       " '09': {'totalDaysWithoutSpot': 0},\n",
       " '10': {'totalDaysWithoutSpot': 0},\n",
       " '11': {'totalDaysWithoutSpot': 3},\n",
       " '12': {'totalDaysWithoutSpot': 3}}"
      ]
     },
     "execution_count": 6,
     "metadata": {},
     "output_type": "execute_result"
    }
   ],
   "source": [
    "nonSpotInMonth(daily, 1818)"
   ]
  },
  {
   "cell_type": "markdown",
   "id": "b72254b0-8cee-4957-9622-755d6e51e20c",
   "metadata": {},
   "source": [
    "## Função para contar ano e mês com mais dias sem manchas solares"
   ]
  },
  {
   "cell_type": "code",
   "execution_count": 7,
   "id": "a94c630d-647d-43d2-8440-d9e6682944fe",
   "metadata": {},
   "outputs": [],
   "source": [
    "def mostDaysWithoutSpot(daily):\n",
    "    data = {\n",
    "        'year': '',\n",
    "        'month':'',\n",
    "        'daysWithoutSpot': 0\n",
    "    }\n",
    "    count = 0\n",
    "    month = ''\n",
    "    for key, value in daily.items():\n",
    "        for keyMonth, daysValues in value.items():\n",
    "            for keyDay, dayValue in daysValues.items():\n",
    "                if(dayValue['total'] == '0'):\n",
    "                    count = count + 1\n",
    "            if(data['daysWithoutSpot'] < count):\n",
    "                data['month'] = keyMonth\n",
    "                data['daysWithoutSpot'] = count\n",
    "                data['year'] = key\n",
    "                \n",
    "            count = 0\n",
    "    return data"
   ]
  },
  {
   "cell_type": "code",
   "execution_count": 8,
   "id": "94fd91cf-7eb9-4fba-aed7-5dfb369f9a65",
   "metadata": {},
   "outputs": [
    {
     "data": {
      "text/plain": [
       "{'year': '1822', 'month': '01', 'daysWithoutSpot': 31}"
      ]
     },
     "execution_count": 8,
     "metadata": {},
     "output_type": "execute_result"
    }
   ],
   "source": [
    "mostDaysWithoutSpot(daily)"
   ]
  },
  {
   "cell_type": "markdown",
   "id": "93de5ef0-71fe-4f35-b22f-c38fa60df911",
   "metadata": {},
   "source": [
    "## Função para determinar o ano e mês com mais dias com manchas solares"
   ]
  },
  {
   "cell_type": "code",
   "execution_count": 9,
   "id": "91e5feec-48f3-48f1-88ef-f9dd78827643",
   "metadata": {},
   "outputs": [],
   "source": [
    "def mostDaysWithSpot(daily):\n",
    "    data = {\n",
    "        'year': '',\n",
    "        'month':'',\n",
    "        'daysWithSpot': 0,\n",
    "        \n",
    "    }\n",
    "    count = 0\n",
    "    month = ''\n",
    "    for key, value in daily.items():\n",
    "        for keyMonth, daysValues in value.items():\n",
    "            for keyDay, dayValue in daysValues.items():\n",
    "                if(dayValue['total'] != '0' and dayValue['total'] != '-1'):\n",
    "                    count = count + 1\n",
    "            if(data['daysWithSpot'] < count):\n",
    "                data['month'] = keyMonth\n",
    "                data['daysWithSpot'] = count\n",
    "                data['year'] = key\n",
    "            \n",
    "            count = 0\n",
    "    return data"
   ]
  },
  {
   "cell_type": "code",
   "execution_count": 10,
   "id": "5641dd26-1d32-4d1b-8be5-48038a16b0fc",
   "metadata": {},
   "outputs": [
    {
     "data": {
      "text/plain": [
       "{'year': '1827', 'month': '07', 'daysWithSpot': 31}"
      ]
     },
     "execution_count": 10,
     "metadata": {},
     "output_type": "execute_result"
    }
   ],
   "source": [
    "mostDaysWithSpot(daily)"
   ]
  },
  {
   "cell_type": "markdown",
   "id": "b4ef44e0-725f-48b0-9324-7b325cf22266",
   "metadata": {},
   "source": [
    "## Função para determinar o ano, mês e dia com mais manchas solares em um período dado"
   ]
  },
  {
   "cell_type": "code",
   "execution_count": 11,
   "id": "96700440-b5a2-42dc-a435-a60a24f46281",
   "metadata": {},
   "outputs": [],
   "source": [
    "def maxByInterval(start, end, startMoth, endMonth, daily):\n",
    "    maximum = {\n",
    "        'year':0,\n",
    "        'month':0,\n",
    "        'day':0,\n",
    "        'max':0\n",
    "    }\n",
    "    minimum = {\n",
    "        'year':0,\n",
    "        'month':0,\n",
    "        'day':0,\n",
    "        'minimum':999999999999\n",
    "    }\n",
    "    \n",
    "    if(start >= 1818 and end <= 2022 and startMoth <= 12 and startMoth != 0 and endMonth <= 12 and endMonth != 0):\n",
    "        for i in range(start, end):\n",
    "            year = daily[str(i)]\n",
    "            for monthKey, monthValue in year.items():\n",
    "                if(int(monthKey) >= startMoth or i > start):\n",
    "                    for dayKey, dayValue in monthValue.items():\n",
    "                        if(int(dayValue['total']) > int(maximum['max'])):\n",
    "                            maximum['year'] = str(i)\n",
    "                            maximum['month'] = monthKey\n",
    "                            maximum['day'] = dayKey\n",
    "                            maximum['max'] = dayValue['total']\n",
    "                        elif(int(dayValue['total']) < int(minimum['minimum'])):\n",
    "                            minimum['year'] = str(i)\n",
    "                            minimum['month'] = monthKey\n",
    "                            minimum['day'] = dayKey\n",
    "                            minimum['minimum'] = dayValue['total']\n",
    "                    if(int(monthKey) > end):\n",
    "                        break\n",
    "                \n",
    "        return {\n",
    "            'maximum':maximum,\n",
    "            'minimum':minimum\n",
    "        }\n",
    "    else:\n",
    "        raise Exception('Error. Try using valid years and months (1818 to 2022, 1 to 12)')"
   ]
  },
  {
   "cell_type": "code",
   "execution_count": 12,
   "id": "cb2e5664-6ebc-46a3-9121-42521dfbb6fb",
   "metadata": {},
   "outputs": [
    {
     "data": {
      "text/plain": [
       "{'maximum': {'year': '1957', 'month': '12', 'day': '24', 'max': '503'},\n",
       " 'minimum': {'year': '1900', 'month': '01', 'day': '04', 'minimum': '0'}}"
      ]
     },
     "execution_count": 12,
     "metadata": {},
     "output_type": "execute_result"
    }
   ],
   "source": [
    "maxByInterval(1900,1958,1,1,daily)"
   ]
  },
  {
   "cell_type": "markdown",
   "id": "1c321984-00ea-4c85-a72e-872224a6cef6",
   "metadata": {},
   "source": [
    "## Duas funções diferentes. Uma pega a média pelo arquivo de médias, a segunda calcula pelos dias no arquivo de dias"
   ]
  },
  {
   "cell_type": "code",
   "execution_count": 13,
   "id": "de0be318-d9d1-424b-803a-6720f312e9d1",
   "metadata": {},
   "outputs": [],
   "source": [
    "def monthlyMeanByYear(monthly, year):\n",
    "    means = {}\n",
    "    if(str(year) in monthly.keys()):\n",
    "        year = monthly[str(year)]\n",
    "        for key, value in year.items():\n",
    "            means[key] = value['total']\n",
    "        return means\n",
    "    else:\n",
    "        raise Exception('Year out of range')"
   ]
  },
  {
   "cell_type": "code",
   "execution_count": 14,
   "id": "c08e3c2f-e3b3-4f4d-926f-3eb282091c42",
   "metadata": {},
   "outputs": [
    {
     "data": {
      "text/plain": [
       "{'01': '58.1',\n",
       " '02': '37.4',\n",
       " '03': '42.4',\n",
       " '04': '57.5',\n",
       " '05': '88.5',\n",
       " '06': '60.8',\n",
       " '07': '46.8',\n",
       " '08': '52.6',\n",
       " '09': '43.4',\n",
       " '10': '52.8',\n",
       " '11': '18.3',\n",
       " '12': '43.0'}"
      ]
     },
     "execution_count": 14,
     "metadata": {},
     "output_type": "execute_result"
    }
   ],
   "source": [
    "monthlyMeanByYear(monthly, 1818)"
   ]
  },
  {
   "cell_type": "code",
   "execution_count": 15,
   "id": "67986ba1-25f6-4a00-8ceb-2dd115044a23",
   "metadata": {},
   "outputs": [],
   "source": [
    "def monthlyMeanByYearDay(daily, year):\n",
    "    #pegar soma do total de manchas em um determinado mês e dividir pela quantidade de dias no mês\n",
    "    #fazer isso para o restante dos meses\n",
    "    if(str(year) in daily.keys()):\n",
    "        year = daily[str(year)]\n",
    "    \n",
    "        totalDays = 0\n",
    "        totalSpots = 0\n",
    "\n",
    "        means = {}\n",
    "\n",
    "        for monthKey, monthDays in year.items():\n",
    "            for dayKey, dayValue in monthDays.items():\n",
    "                if(dayValue['total'] != '-1'):\n",
    "                    totalSpots = totalSpots + int(dayValue['total'])\n",
    "                    totalDays = totalDays + 1\n",
    "            means[monthKey] = totalSpots/totalDays\n",
    "            totalDays = 0\n",
    "            totalSpots = 0\n",
    "        return means\n",
    "    \n",
    "    else:\n",
    "        raise Exception('Year out of range')\n",
    "    "
   ]
  },
  {
   "cell_type": "code",
   "execution_count": 16,
   "id": "3293ffbc-c7aa-4178-8f6a-15c7077fe9bf",
   "metadata": {},
   "outputs": [
    {
     "data": {
      "text/plain": [
       "{'01': 58.125,\n",
       " '02': 37.42857142857143,\n",
       " '03': 42.357142857142854,\n",
       " '04': 57.523809523809526,\n",
       " '05': 88.48,\n",
       " '06': 60.8,\n",
       " '07': 46.76190476190476,\n",
       " '08': 52.55,\n",
       " '09': 43.388888888888886,\n",
       " '10': 52.77272727272727,\n",
       " '11': 18.333333333333332,\n",
       " '12': 43.0}"
      ]
     },
     "execution_count": 16,
     "metadata": {},
     "output_type": "execute_result"
    }
   ],
   "source": [
    "monthlyMeanByYearDay(daily, 1818)"
   ]
  },
  {
   "cell_type": "markdown",
   "id": "385f6761-e349-444c-a81b-950302340045",
   "metadata": {},
   "source": [
    "## Std by daily Observations"
   ]
  },
  {
   "cell_type": "code",
   "execution_count": 17,
   "id": "ded4f351-78a1-4384-8e2c-e3c77fd31804",
   "metadata": {},
   "outputs": [],
   "source": [
    "def stdByMothlyObservation(daily):\n",
    "    std = {}\n",
    "    \n",
    "    nSigma = []\n",
    "    n = 0\n",
    "    \n",
    "    \n",
    "    \n",
    "    for yearKey, yearMonth in daily.items():\n",
    "        std[yearKey] = {}\n",
    "        for monthKey, monthValue in yearMonth.items():\n",
    "            \n",
    "            for dayKey, dayValue in monthValue.items():\n",
    "                nSigma.append(float(dayValue['numberOfObservations']) * (float(dayValue['std']) ** 2))\n",
    "                n = n + int(dayValue['numberOfObservations'])\n",
    "            if(n != 0):\n",
    "                std[yearKey][monthKey] = {\n",
    "                    'std':math.sqrt(sum(nSigma)/n)\n",
    "                }\n",
    "            else:\n",
    "                std[yearKey][monthKey] = {\n",
    "                    'std':-1\n",
    "                }\n",
    "                \n",
    "            n = 0\n",
    "            nSigma = []\n",
    "    return std"
   ]
  },
  {
   "cell_type": "code",
   "execution_count": 18,
   "id": "457fa55a-0be5-4abe-b3af-247a77b198fe",
   "metadata": {},
   "outputs": [],
   "source": [
    "stand = stdByMothlyObservation(daily)"
   ]
  },
  {
   "cell_type": "markdown",
   "id": "af047ae4-f73a-43c2-8e86-3172619da60c",
   "metadata": {},
   "source": [
    "## Pegar média suave em intervalo de anos"
   ]
  },
  {
   "cell_type": "code",
   "execution_count": 19,
   "id": "823e986d-9253-4ce0-8a70-96f60aacdac2",
   "metadata": {},
   "outputs": [],
   "source": [
    "import itertools"
   ]
  },
  {
   "cell_type": "code",
   "execution_count": 20,
   "id": "ba226656-7217-4f67-aee7-4845e67e5bd5",
   "metadata": {
    "tags": []
   },
   "outputs": [],
   "source": [
    "def smoothedMeanByInterval(start, end, monthly):\n",
    "    if(str(start) in monthly.keys() and str(end) in monthly.keys()):\n",
    "        a = {}\n",
    "    \n",
    "        months = []\n",
    "\n",
    "        means=[]\n",
    "\n",
    "        result = {}\n",
    "\n",
    "        years = list(monthly.keys())\n",
    "        yearStart = int(years[0])\n",
    "        yearEnd = int(years[len(years)-1])\n",
    "\n",
    "        for key, value in monthly.items():\n",
    "            if(int(key) >= start-1 and int(key) <= end+1):\n",
    "                if(int(key) >= start and int(key) <= end):\n",
    "                    result[key] = []\n",
    "                for monthKey, monthValue in value.items():\n",
    "                    #if(key in result.keys()):\n",
    "                        #result[key][monthKey] = {\n",
    "                            #'smoothedMean':0\n",
    "                        #}\n",
    "                    months.append(float(monthValue['total']))\n",
    "        print(len(months))\n",
    "\n",
    "        if(start > yearStart and end+1 == yearEnd):\n",
    "            for i in range(12, len(months) -10):\n",
    "                means.append((0.5*months[i-6] + months[i-5] + months[i-4] + months[i-3] + months[i-2] + months[i-1] + months[i] + months[i+1]+ months[i+2]+ months[i+3]+ months[i+4]+ months[i+5]+ months[i+6]*0.5)/12)\n",
    "        elif(start > yearStart and end < yearEnd):\n",
    "            for i in range(12, len(months) -12):\n",
    "                means.append((0.5*months[i-6] + months[i-5] + months[i-4] + months[i-3] + months[i-2] + months[i-1] + months[i] + months[i+1]+ months[i+2]+ months[i+3]+ months[i+4]+ months[i+5]+ months[i+6]*0.5)/12)    \n",
    "        elif(start == yearStart and end < yearEnd):\n",
    "            for i in range(6, len(months) -12):\n",
    "                means.append((0.5*months[i-6] + months[i-5] + months[i-4] + months[i-3] + months[i-2] + months[i-1] + months[i] + months[i+1]+ months[i+2]+ months[i+3]+ months[i+4]+ months[i+5]+ months[i+6]*0.5)/12)\n",
    "        elif(start > yearStart and end == yearEnd):\n",
    "            for i in range(12, len(months) -6):\n",
    "                means.append((0.5*months[i-6] + months[i-5] + months[i-4] + months[i-3] + months[i-2] + months[i-1] + months[i] + months[i+1]+ months[i+2]+ months[i+3]+ months[i+4]+ months[i+5]+ months[i+6]*0.5)/12)\n",
    "        else:\n",
    "            for i in range(6, len(months) -6):\n",
    "                means.append((0.5*months[i-6] + months[i-5] + months[i-4] + months[i-3] + months[i-2] + months[i-1] + months[i] + months[i+1]+ months[i+2]+ months[i+3]+ months[i+4]+ months[i+5]+ months[i+6]*0.5)/12)\n",
    "\n",
    "        print(len(means))\n",
    "\n",
    "        for key, value in result.items():\n",
    "            if(int(key) == yearStart):\n",
    "                for i in range(6, 12):\n",
    "                    result[key].append(means.pop(0))\n",
    "            elif(int(key) == yearEnd):\n",
    "                for i in range(4):\n",
    "                    result[key].append(means.pop(0))\n",
    "            else:\n",
    "                for i in range(12):\n",
    "                    result[key].append(means.pop(0))\n",
    "            #for monthKey, monthValue in value.items():\n",
    "                #result[key][monthKey]['smoothedMean'] = means.pop(0)\n",
    "\n",
    "        return result\n",
    "    \n",
    "    else:\n",
    "        raise Exception('Years out of range')"
   ]
  },
  {
   "cell_type": "code",
   "execution_count": 34,
   "id": "0c00f671-9661-4df6-8562-d50209a1e7d4",
   "metadata": {},
   "outputs": [
    {
     "name": "stdout",
     "output_type": "stream",
     "text": [
      "156\n",
      "138\n"
     ]
    }
   ],
   "source": [
    "means = smoothedMeanByInterval(1749,1760,monthly)"
   ]
  },
  {
   "cell_type": "code",
   "execution_count": 35,
   "id": "027a1dfe-2cca-42ee-8f7c-377b02408497",
   "metadata": {},
   "outputs": [
    {
     "data": {
      "text/plain": [
       "{'1749': [135.93749999999997,\n",
       "  137.92499999999998,\n",
       "  140.1833333333333,\n",
       "  143.78333333333333,\n",
       "  146.39583333333334,\n",
       "  147.88750000000002],\n",
       " '1750': [148.3791666666667,\n",
       "  150.275,\n",
       "  153.88750000000002,\n",
       "  154.27083333333334,\n",
       "  146.975,\n",
       "  139.67916666666665,\n",
       "  138.77083333333334,\n",
       "  136.29166666666666,\n",
       "  130.99166666666667,\n",
       "  125.72500000000001,\n",
       "  121.47500000000001,\n",
       "  116.01666666666667],\n",
       " '1751': [111.26666666666667,\n",
       "  106.94166666666666,\n",
       "  99.24166666666666,\n",
       "  91.59166666666665,\n",
       "  86.22500000000002,\n",
       "  81.62500000000001,\n",
       "  77.00833333333334,\n",
       "  75.02499999999999,\n",
       "  77.25833333333333,\n",
       "  79.24166666666665,\n",
       "  79.37083333333332,\n",
       "  78.52916666666665],\n",
       " '1752': [78.6,\n",
       "  77.32083333333334,\n",
       "  75.45,\n",
       "  77.325,\n",
       "  79.58333333333334,\n",
       "  79.94166666666668,\n",
       "  80.29166666666667,\n",
       "  79.66666666666667,\n",
       "  76.66250000000001,\n",
       "  73.42916666666667,\n",
       "  70.30416666666666,\n",
       "  68.10833333333332],\n",
       " '1753': [63.64166666666666,\n",
       "  60.4,\n",
       "  61.137499999999996,\n",
       "  59.70000000000001,\n",
       "  56.975000000000016,\n",
       "  53.43750000000001,\n",
       "  48.07083333333333,\n",
       "  43.00416666666666,\n",
       "  37.93333333333333,\n",
       "  33.18749999999999,\n",
       "  30.4375,\n",
       "  29.02916666666667],\n",
       " '1754': [28.458333333333332,\n",
       "  26.379166666666666,\n",
       "  23.150000000000006,\n",
       "  21.712500000000002,\n",
       "  21.179166666666664,\n",
       "  20.53333333333333,\n",
       "  21.066666666666666,\n",
       "  22.345833333333335,\n",
       "  23.27083333333333,\n",
       "  23.124999999999996,\n",
       "  21.1875,\n",
       "  17.895833333333332],\n",
       " '1755': [15.333333333333336,\n",
       "  13.991666666666669,\n",
       "  14.025000000000004,\n",
       "  14.6625,\n",
       "  14.1875,\n",
       "  14.8375,\n",
       "  16.091666666666665,\n",
       "  15.962500000000004,\n",
       "  15.579166666666667,\n",
       "  15.687500000000002,\n",
       "  16.758333333333333,\n",
       "  18.520833333333332],\n",
       " '1756': [19.070833333333336,\n",
       "  18.95,\n",
       "  18.758333333333333,\n",
       "  17.687499999999996,\n",
       "  17.741666666666667,\n",
       "  17.716666666666665,\n",
       "  17.095833333333335,\n",
       "  18.187500000000004,\n",
       "  20.6125,\n",
       "  23.487499999999997,\n",
       "  26.69583333333333,\n",
       "  28.466666666666665],\n",
       " '1757': [29.945833333333336,\n",
       "  34.55,\n",
       "  39.604166666666664,\n",
       "  42.80833333333333,\n",
       "  47.387499999999996,\n",
       "  52.37083333333333,\n",
       "  55.67499999999999,\n",
       "  59.449999999999996,\n",
       "  63.175000000000004,\n",
       "  67.69583333333334,\n",
       "  71.20833333333334,\n",
       "  74.02083333333333],\n",
       " '1758': [77.575,\n",
       "  78.01666666666667,\n",
       "  78.725,\n",
       "  80.66666666666666,\n",
       "  79.52083333333333,\n",
       "  78.67916666666666,\n",
       "  80.08333333333334,\n",
       "  80.26666666666668,\n",
       "  79.55416666666666,\n",
       "  77.64166666666667,\n",
       "  76.06666666666666,\n",
       "  76.59583333333333],\n",
       " '1759': [77.42916666666666,\n",
       "  80.17916666666666,\n",
       "  83.46249999999999,\n",
       "  86.01249999999999,\n",
       "  87.77083333333331,\n",
       "  88.97083333333335,\n",
       "  91.26249999999999,\n",
       "  93.66250000000001,\n",
       "  96.67916666666667,\n",
       "  99.40416666666665,\n",
       "  101.78750000000001,\n",
       "  103.26666666666667],\n",
       " '1760': [104.19166666666668,\n",
       "  105.53333333333335,\n",
       "  104.72916666666667,\n",
       "  102.99166666666667,\n",
       "  103.28750000000001,\n",
       "  104.49583333333332,\n",
       "  104.96249999999999,\n",
       "  107.33749999999999,\n",
       "  109.94166666666668,\n",
       "  111.28750000000001,\n",
       "  114.66250000000001,\n",
       "  120.65000000000002]}"
      ]
     },
     "execution_count": 35,
     "metadata": {},
     "output_type": "execute_result"
    }
   ],
   "source": [
    "means"
   ]
  },
  {
   "cell_type": "markdown",
   "id": "f78db15f-e266-459d-baf8-51139ae87dec",
   "metadata": {},
   "source": [
    "## Funções para arrecadar os dados e plotar o gráfico"
   ]
  },
  {
   "cell_type": "code",
   "execution_count": 23,
   "id": "ce220de2-98a7-4772-a0f2-7a46d9c040b4",
   "metadata": {},
   "outputs": [],
   "source": [
    "def dataForGraph(daily, monthly, start, end):\n",
    "    if(str(start) in daily.keys() and str(end) in daily.keys()):\n",
    "        dayY = []\n",
    "        monthY = []\n",
    "        for key, value in daily.items():\n",
    "            if(int(key) >= start and int(key) <= end):\n",
    "                for monthKey, monthValue in value.items():\n",
    "                    for dayKey, dayValue in monthValue.items():\n",
    "                        dayY.append(int(dayValue['total']))\n",
    "\n",
    "\n",
    "\n",
    "        for key, value in monthly.items():\n",
    "            if(int(key) >= start and int(key) <= end):\n",
    "                for monthKey, monthValue in value.items():\n",
    "                    monthY.append(float(monthValue['total']))\n",
    "\n",
    "        smoothed = smoothedMeanByInterval(start,end,monthly)\n",
    "        smoothedY = []\n",
    "        for key, value in smoothed.items():\n",
    "            smoothedY.extend(value)\n",
    "\n",
    "        return {\n",
    "            'day':dayY,\n",
    "            'month':monthY,\n",
    "            'smoothed':smoothedY\n",
    "        }\n",
    "    else:\n",
    "        raise Exception('Years out of range')"
   ]
  },
  {
   "cell_type": "code",
   "execution_count": 31,
   "id": "1842b39e-3ab9-46b1-902f-07584ff72194",
   "metadata": {},
   "outputs": [
    {
     "name": "stdout",
     "output_type": "stream",
     "text": [
      "178\n",
      "160\n"
     ]
    }
   ],
   "source": [
    "data = dataForGraph(daily, monthly, 2009, 2022)"
   ]
  },
  {
   "cell_type": "code",
   "execution_count": 32,
   "id": "0aac2b31-f3ea-44e5-a62c-81ac3792d6d4",
   "metadata": {},
   "outputs": [],
   "source": [
    "def createGraph(data):\n",
    "    fig, ax = plt.subplots()\n",
    "    ax.set_aspect('auto')\n",
    "    line1 = ax.plot(data['day'], linewidth=.2, color=\"y\", label=\"Daily Observations\")\n",
    "    #ax.legend(loc=1)\n",
    "    fig.tight_layout()  # otherwise the right y-label is slightly clipped\n",
    "\n",
    "    ax2 = ax.twiny()\n",
    "    line2=ax2.plot(data['month'], linewidth=.5, color=\"b\", label=\"Monthly Means\")\n",
    "    #ax2.legend(loc=2)\n",
    "    fig.tight_layout()  # otherwise the right y-label is slightly clipped\n",
    "    \n",
    "\n",
    "    ax3 = ax2.twiny()\n",
    "    line3=ax3.plot(data['smoothed'], linewidth=2, color=\"r\", label=\"Smoothed mean\")\n",
    "    #ax3.legend(loc=2)\n",
    "    fig.tight_layout()  # otherwise the right y-label is slightly clipped\n",
    "    \n",
    "    lins = line1+line2+line3\n",
    "    labs = [l.get_label() for l in lins]\n",
    "    ax.legend(lins,labs,loc=0)\n",
    "\n",
    "    plt.show()"
   ]
  },
  {
   "cell_type": "code",
   "execution_count": 33,
   "id": "9becc9af-4bc4-4560-a995-a60f03fa33bf",
   "metadata": {},
   "outputs": [
    {
     "data": {
      "image/png": "[encoded data removed]",
      "text/plain": [
       "<Figure size 640x480 with 3 Axes>"
      ]
     },
     "metadata": {},
     "output_type": "display_data"
    }
   ],
   "source": [
    "createGraph(data)"
   ]
  }
 ],
 "metadata": {
  "kernelspec": {
   "display_name": "Python 3 (ipykernel)",
   "language": "python",
   "name": "python3"
  },
  "language_info": {
   "codemirror_mode": {
    "name": "ipython",
    "version": 3
   },
   "file_extension": ".py",
   "mimetype": "text/x-python",
   "name": "python",
   "nbconvert_exporter": "python",
   "pygments_lexer": "ipython3",
   "version": "3.10.7"
  }
 },
 "nbformat": 4,
 "nbformat_minor": 5
}
