{
 "cells": [
  {
   "cell_type": "markdown",
   "id": "62aa39da-2caa-4120-b862-c4f2b02a07a8",
   "metadata": {},
   "source": [
    "## Atividade avaliativa exigida pela disciplina de programação de computadores"
   ]
  },
  {
   "cell_type": "code",
   "execution_count": 5,
   "id": "b5895614-bef2-49ab-adc0-95ae704c3f48",
   "metadata": {},
   "outputs": [],
   "source": [
    "import math"
   ]
  },
  {
   "cell_type": "code",
   "execution_count": 6,
   "id": "33c7707a-5daf-4d81-a32a-4e6582a8a75c",
   "metadata": {},
   "outputs": [],
   "source": [
    "\n",
    "#populando o dicionario daily\n",
    "def populateByDay(path):\n",
    "    daily = {}\n",
    "    with open(f'{path}') as f:\n",
    "        for i in f:\n",
    "            linha = i.rstrip().replace(' ', '').split(';')\n",
    "\n",
    "            if(linha[0] in daily.keys()):\n",
    "                if(linha[1] in daily[linha[0]].keys()):\n",
    "                    daily[linha[0]][linha[1]][linha[2]] = {\n",
    "                        'total':linha[4],\n",
    "                        'std':linha[5],\n",
    "                        'numberOfObservations':linha[6]\n",
    "                    }\n",
    "                else:\n",
    "                    daily[linha[0]][linha[1]] = {}\n",
    "                    daily[linha[0]][linha[1]][linha[2]] = {\n",
    "                        'total':linha[4],\n",
    "                        'std':linha[5],\n",
    "                        'numberOfObservations':linha[6]\n",
    "                    }\n",
    "            else:\n",
    "                daily[linha[0]] = {}\n",
    "                daily[linha[0]][linha[1]] = {}\n",
    "                daily[linha[0]][linha[1]][linha[2]] = {\n",
    "                        'total':linha[4],\n",
    "                        'std':linha[5],\n",
    "                        'numberOfObservations':linha[6]\n",
    "                    }\n",
    "        \n",
    "        return daily\n",
    "            \n"
   ]
  },
  {
   "cell_type": "code",
   "execution_count": 7,
   "id": "e7bc6c71-3633-40d8-9466-b08b883d2e2a",
   "metadata": {},
   "outputs": [],
   "source": [
    "#populando o dicionario monthly\n",
    "def populateByMonth(path):\n",
    "    monthly = {}\n",
    "    with open(f'{path}') as f:\n",
    "        for i in f:\n",
    "            linha = i.rstrip().replace(' ', '').split(';')\n",
    "\n",
    "            if(linha[0] in monthly.keys()):\n",
    "                monthly[linha[0]][linha[1]] = {\n",
    "                    'total': linha[3],\n",
    "                    'std': linha[4],\n",
    "                    'numberOfObservations':linha[5]\n",
    "                }\n",
    "            else:\n",
    "                monthly[linha[0]] = {}\n",
    "                monthly[linha[0]][linha[1]] = {\n",
    "                    'total': linha[3],\n",
    "                    'std': linha[4],\n",
    "                    'numberOfObservations':linha[5]\n",
    "                }\n",
    "    return monthly"
   ]
  },
  {
   "cell_type": "code",
   "execution_count": 8,
   "id": "62744db6-f384-418d-bfe9-74ad15d9fdbf",
   "metadata": {},
   "outputs": [],
   "source": [
    "daily = populateByDay('./byDayCsv.csv')\n",
    "monthly = populateByMonth('./byMonthCsv.csv')"
   ]
  },
  {
   "cell_type": "code",
   "execution_count": 9,
   "id": "0361bec0-024f-42bb-aefa-3a9c2578683d",
   "metadata": {},
   "outputs": [],
   "source": [
    "def nonSpotInMonth(daily, year):\n",
    "    year = daily[year]\n",
    "    values = {}\n",
    "    count = 0\n",
    "    \n",
    "    for key, value in year.items():\n",
    "        values[key] = {\n",
    "            'totalDaysWithoutSpot':0\n",
    "        }\n",
    "        for keyDay, valueDay in value.items():\n",
    "            if(valueDay['total'] == '0'):\n",
    "                values[key]['totalDaysWithoutSpot'] = values[key]['totalDaysWithoutSpot'] + 1\n",
    "    return values\n",
    "            \n",
    "        "
   ]
  },
  {
   "cell_type": "code",
   "execution_count": 10,
   "id": "8ff9fb2b-5b3c-4b26-b68f-07e696009aee",
   "metadata": {},
   "outputs": [
    {
     "data": {
      "text/plain": [
       "{'01': {'totalDaysWithoutSpot': 0},\n",
       " '02': {'totalDaysWithoutSpot': 6},\n",
       " '03': {'totalDaysWithoutSpot': 2},\n",
       " '04': {'totalDaysWithoutSpot': 0},\n",
       " '05': {'totalDaysWithoutSpot': 0},\n",
       " '06': {'totalDaysWithoutSpot': 0},\n",
       " '07': {'totalDaysWithoutSpot': 0},\n",
       " '08': {'totalDaysWithoutSpot': 0},\n",
       " '09': {'totalDaysWithoutSpot': 0},\n",
       " '10': {'totalDaysWithoutSpot': 0},\n",
       " '11': {'totalDaysWithoutSpot': 3},\n",
       " '12': {'totalDaysWithoutSpot': 3}}"
      ]
     },
     "execution_count": 10,
     "metadata": {},
     "output_type": "execute_result"
    }
   ],
   "source": [
    "nonSpotInMonth(daily, '1818')"
   ]
  },
  {
   "cell_type": "code",
   "execution_count": 11,
   "id": "a94c630d-647d-43d2-8440-d9e6682944fe",
   "metadata": {},
   "outputs": [],
   "source": [
    "def mostDaysWithoutSpot(daily):\n",
    "    data = {\n",
    "        'year': '',\n",
    "        'month':'',\n",
    "        'daysWithoutSpot': 0\n",
    "    }\n",
    "    count = 0\n",
    "    month = ''\n",
    "    for key, value in daily.items():\n",
    "        for keyMonth, daysValues in value.items():\n",
    "            for keyDay, dayValue in daysValues.items():\n",
    "                if(dayValue['total'] == '0' or dayValue['total'] == '-1'):\n",
    "                    count = count + 1\n",
    "            if(data['daysWithoutSpot'] < count):\n",
    "                data['month'] = keyMonth\n",
    "                data['daysWithoutSpot'] = count\n",
    "                data['year'] = key\n",
    "                \n",
    "            count = 0\n",
    "    return data"
   ]
  },
  {
   "cell_type": "code",
   "execution_count": 12,
   "id": "94fd91cf-7eb9-4fba-aed7-5dfb369f9a65",
   "metadata": {},
   "outputs": [
    {
     "data": {
      "text/plain": [
       "{'year': '1822', 'month': '01', 'daysWithoutSpot': 31}"
      ]
     },
     "execution_count": 12,
     "metadata": {},
     "output_type": "execute_result"
    }
   ],
   "source": [
    "mostDaysWithoutSpot(daily)"
   ]
  },
  {
   "cell_type": "code",
   "execution_count": 13,
   "id": "91e5feec-48f3-48f1-88ef-f9dd78827643",
   "metadata": {},
   "outputs": [],
   "source": [
    "def mostDaysWithSpot(daily):\n",
    "    data = {\n",
    "        'year': '',\n",
    "        'month':'',\n",
    "        'daysWithSpot': 0,\n",
    "        \n",
    "    }\n",
    "    count = 0\n",
    "    month = ''\n",
    "    for key, value in daily.items():\n",
    "        for keyMonth, daysValues in value.items():\n",
    "            for keyDay, dayValue in daysValues.items():\n",
    "                if(dayValue['total'] != '0' and dayValue['total'] != '-1'):\n",
    "                    count = count + 1\n",
    "            if(data['daysWithSpot'] < count):\n",
    "                data['month'] = keyMonth\n",
    "                data['daysWithSpot'] = count\n",
    "                data['year'] = key\n",
    "            \n",
    "            count = 0\n",
    "    return data"
   ]
  },
  {
   "cell_type": "code",
   "execution_count": 14,
   "id": "5641dd26-1d32-4d1b-8be5-48038a16b0fc",
   "metadata": {},
   "outputs": [
    {
     "data": {
      "text/plain": [
       "{'year': '1827', 'month': '07', 'daysWithSpot': 31}"
      ]
     },
     "execution_count": 14,
     "metadata": {},
     "output_type": "execute_result"
    }
   ],
   "source": [
    "mostDaysWithSpot(daily)"
   ]
  },
  {
   "cell_type": "code",
   "execution_count": 15,
   "id": "96700440-b5a2-42dc-a435-a60a24f46281",
   "metadata": {},
   "outputs": [],
   "source": [
    "def maxByInterval(start, end, startMoth, endMonth, daily):\n",
    "    maximum = {\n",
    "        'year':0,\n",
    "        'month':0,\n",
    "        'day':0,\n",
    "        'max':0\n",
    "    }\n",
    "    minimum = {\n",
    "        'year':0,\n",
    "        'month':0,\n",
    "        'day':0,\n",
    "        'minimum':999999999999\n",
    "    }\n",
    "    for i in range(start, end):\n",
    "        year = daily[str(i)]\n",
    "        for monthKey, monthValue in year.items():\n",
    "            if(int(monthKey) >= startMoth or i > start):\n",
    "                for dayKey, dayValue in monthValue.items():\n",
    "                    if(int(dayValue['total']) > int(maximum['max'])):\n",
    "                        maximum['year'] = str(i)\n",
    "                        maximum['month'] = monthKey\n",
    "                        maximum['day'] = dayKey\n",
    "                        maximum['max'] = dayValue['total']\n",
    "                    elif(int(dayValue['total']) < int(minimum['minimum'])):\n",
    "                        minimum['year'] = str(i)\n",
    "                        minimum['month'] = monthKey\n",
    "                        minimum['day'] = dayKey\n",
    "                        minimum['minimum'] = dayValue['total']\n",
    "                if(int(monthKey) > end):\n",
    "                    break\n",
    "                \n",
    "    return {\n",
    "        'maximum':maximum,\n",
    "        'minimum':minimum\n",
    "    }"
   ]
  },
  {
   "cell_type": "code",
   "execution_count": 16,
   "id": "cb2e5664-6ebc-46a3-9121-42521dfbb6fb",
   "metadata": {},
   "outputs": [
    {
     "data": {
      "text/plain": [
       "{'maximum': {'year': '1957', 'month': '12', 'day': '24', 'max': '503'},\n",
       " 'minimum': {'year': '1900', 'month': '01', 'day': '04', 'minimum': '0'}}"
      ]
     },
     "execution_count": 16,
     "metadata": {},
     "output_type": "execute_result"
    }
   ],
   "source": [
    "maxByInterval(1900,1958,1,1,daily)"
   ]
  },
  {
   "cell_type": "markdown",
   "id": "1c321984-00ea-4c85-a72e-872224a6cef6",
   "metadata": {},
   "source": [
    "## Duas funções diferentes. Uma pega a média pelo arquivo de médias, a segunda calcula pelos dias no arquivo de dias"
   ]
  },
  {
   "cell_type": "code",
   "execution_count": 17,
   "id": "de0be318-d9d1-424b-803a-6720f312e9d1",
   "metadata": {},
   "outputs": [],
   "source": [
    "def monthlyMeanByYear(monthly, year):\n",
    "    means = {}\n",
    "    year = monthly[year]\n",
    "    for key, value in year.items():\n",
    "        means[key] = value['total']\n",
    "    return means"
   ]
  },
  {
   "cell_type": "code",
   "execution_count": 18,
   "id": "c08e3c2f-e3b3-4f4d-926f-3eb282091c42",
   "metadata": {},
   "outputs": [
    {
     "data": {
      "text/plain": [
       "{'01': '58.1',\n",
       " '02': '37.4',\n",
       " '03': '42.4',\n",
       " '04': '57.5',\n",
       " '05': '88.5',\n",
       " '06': '60.8',\n",
       " '07': '46.8',\n",
       " '08': '52.6',\n",
       " '09': '43.4',\n",
       " '10': '52.8',\n",
       " '11': '18.3',\n",
       " '12': '43.0'}"
      ]
     },
     "execution_count": 18,
     "metadata": {},
     "output_type": "execute_result"
    }
   ],
   "source": [
    "monthlyMeanByYear(monthly, '1818')"
   ]
  },
  {
   "cell_type": "code",
   "execution_count": 19,
   "id": "67986ba1-25f6-4a00-8ceb-2dd115044a23",
   "metadata": {},
   "outputs": [],
   "source": [
    "def monthlyMeanByYearDay(daily, year):\n",
    "    #pegar soma do total de manchas em um determinado mês e dividir pela quantidade de dias no mês\n",
    "    #fazer isso para o restante dos meses\n",
    "    \n",
    "    year = daily[year]\n",
    "    \n",
    "    totalDays = 0\n",
    "    totalSpots = 0\n",
    "    \n",
    "    means = {}\n",
    "    \n",
    "    for monthKey, monthDays in year.items():\n",
    "        for dayKey, dayValue in monthDays.items():\n",
    "            if(dayValue['total'] != '-1'):\n",
    "                totalSpots = totalSpots + int(dayValue['total'])\n",
    "                totalDays = totalDays + 1\n",
    "        means[monthKey] = totalSpots/totalDays\n",
    "        totalDays = 0\n",
    "        totalSpots = 0\n",
    "    return means"
   ]
  },
  {
   "cell_type": "code",
   "execution_count": 20,
   "id": "3293ffbc-c7aa-4178-8f6a-15c7077fe9bf",
   "metadata": {},
   "outputs": [
    {
     "data": {
      "text/plain": [
       "{'01': 58.125,\n",
       " '02': 37.42857142857143,\n",
       " '03': 42.357142857142854,\n",
       " '04': 57.523809523809526,\n",
       " '05': 88.48,\n",
       " '06': 60.8,\n",
       " '07': 46.76190476190476,\n",
       " '08': 52.55,\n",
       " '09': 43.388888888888886,\n",
       " '10': 52.77272727272727,\n",
       " '11': 18.333333333333332,\n",
       " '12': 43.0}"
      ]
     },
     "execution_count": 20,
     "metadata": {},
     "output_type": "execute_result"
    }
   ],
   "source": [
    "monthlyMeanByYearDay(daily, '1818')"
   ]
  },
  {
   "cell_type": "code",
   "execution_count": 21,
   "id": "ded4f351-78a1-4384-8e2c-e3c77fd31804",
   "metadata": {},
   "outputs": [],
   "source": [
    "def stdByMothlyObservation(monthly):\n",
    "    std = {}\n",
    "    \n",
    "    nSigma = []\n",
    "    n = 0\n",
    "    \n",
    "    \n",
    "    \n",
    "    for yearKey, yearMonth in monthly.items():\n",
    "        std[yearKey] = {}\n",
    "        for monthKey, monthValue in yearMonth.items():\n",
    "            \n",
    "            for dayKey, dayValue in monthValue.items():\n",
    "                nSigma.append(int(dayValue['numberOfObservations']) * (float(dayValue['std']) ** 2))\n",
    "                n = n + int(dayValue['numberOfObservations'])\n",
    "            if(n != 0):\n",
    "                std[yearKey][monthKey] = {\n",
    "                    'std':math.sqrt(sum(nSigma)/n)\n",
    "                }\n",
    "            else:\n",
    "                std[yearKey][monthKey] = {\n",
    "                    'std':-1\n",
    "                }\n",
    "                \n",
    "            n = 0\n",
    "            nSigma = []\n",
    "    return std"
   ]
  },
  {
   "cell_type": "markdown",
   "id": "af047ae4-f73a-43c2-8e86-3172619da60c",
   "metadata": {},
   "source": [
    "## Pegar média suave em intervalo de anos"
   ]
  },
  {
   "cell_type": "code",
   "execution_count": 22,
   "id": "823e986d-9253-4ce0-8a70-96f60aacdac2",
   "metadata": {},
   "outputs": [],
   "source": [
    "import itertools"
   ]
  },
  {
   "cell_type": "code",
   "execution_count": 158,
   "id": "ba226656-7217-4f67-aee7-4845e67e5bd5",
   "metadata": {
    "tags": []
   },
   "outputs": [],
   "source": [
    "def smoothedMeanByInterval(start, end, monthly):\n",
    "    a = {}\n",
    "    \n",
    "    months = []\n",
    "    \n",
    "    means=[]\n",
    "    \n",
    "    result = {}\n",
    "    \n",
    "    years = list(monthly.keys())\n",
    "    yearStart = int(years[0])\n",
    "    yearEnd = int(years[len(years)-1])\n",
    "\n",
    "    for key, value in monthly.items():\n",
    "        if(int(key) >= start-1 and int(key) <= end+1):\n",
    "            if(int(key) >= start and int(key) <= end):\n",
    "                result[key] = []\n",
    "            for monthKey, monthValue in value.items():\n",
    "                #if(key in result.keys()):\n",
    "                    #result[key][monthKey] = {\n",
    "                        #'smoothedMean':0\n",
    "                    #}\n",
    "                months.append(float(monthValue['total']))\n",
    "    print(len(months))\n",
    "\n",
    "    if(start > yearStart and end+1 == yearEnd):\n",
    "        for i in range(12, len(months) -10):\n",
    "            means.append((0.5*months[i-6] + months[i-5] + months[i-4] + months[i-3] + months[i-2] + months[i-1] + months[i] + months[i+1]+ months[i+2]+ months[i+3]+ months[i+4]+ months[i+5]+ months[i+6]*0.5)/12)\n",
    "    elif(start > yearStart and end < yearEnd):\n",
    "        for i in range(12, len(months) -12):\n",
    "            means.append((0.5*months[i-6] + months[i-5] + months[i-4] + months[i-3] + months[i-2] + months[i-1] + months[i] + months[i+1]+ months[i+2]+ months[i+3]+ months[i+4]+ months[i+5]+ months[i+6]*0.5)/12)    \n",
    "    elif(start == yearStart and end < yearEnd):\n",
    "        for i in range(6, len(months) -12):\n",
    "            means.append((0.5*months[i-6] + months[i-5] + months[i-4] + months[i-3] + months[i-2] + months[i-1] + months[i] + months[i+1]+ months[i+2]+ months[i+3]+ months[i+4]+ months[i+5]+ months[i+6]*0.5)/12)\n",
    "    elif(start > yearStart and end == yearEnd):\n",
    "        for i in range(12, len(months) -6):\n",
    "            means.append((0.5*months[i-6] + months[i-5] + months[i-4] + months[i-3] + months[i-2] + months[i-1] + months[i] + months[i+1]+ months[i+2]+ months[i+3]+ months[i+4]+ months[i+5]+ months[i+6]*0.5)/12)\n",
    "    else:\n",
    "        for i in range(6, len(months) -6):\n",
    "            means.append((0.5*months[i-6] + months[i-5] + months[i-4] + months[i-3] + months[i-2] + months[i-1] + months[i] + months[i+1]+ months[i+2]+ months[i+3]+ months[i+4]+ months[i+5]+ months[i+6]*0.5)/12)\n",
    "\n",
    "    print(len(means))\n",
    "    \n",
    "    for key, value in result.items():\n",
    "        if(int(key) == yearStart):\n",
    "            for i in range(6, 12):\n",
    "                result[key].append(means.pop(0))\n",
    "        elif(int(key) == yearEnd):\n",
    "            for i in range(4):\n",
    "                result[key].append(means.pop(0))\n",
    "        else:\n",
    "            for i in range(12):\n",
    "                result[key].append(means.pop(0))\n",
    "        #for monthKey, monthValue in value.items():\n",
    "            #result[key][monthKey]['smoothedMean'] = means.pop(0)\n",
    "    \n",
    "    return result"
   ]
  },
  {
   "cell_type": "code",
   "execution_count": 159,
   "id": "0c00f671-9661-4df6-8562-d50209a1e7d4",
   "metadata": {},
   "outputs": [
    {
     "name": "stdout",
     "output_type": "stream",
     "text": [
      "166\n",
      "144\n"
     ]
    }
   ],
   "source": [
    "means = smoothedMeanByInterval(2010,2021,monthly)"
   ]
  },
  {
   "cell_type": "code",
   "execution_count": 58,
   "id": "223261a6-7909-42c6-8830-8c2d0f93d774",
   "metadata": {},
   "outputs": [],
   "source": [
    "import matplotlib.pyplot as plt"
   ]
  },
  {
   "cell_type": "code",
   "execution_count": 162,
   "id": "ce220de2-98a7-4772-a0f2-7a46d9c040b4",
   "metadata": {},
   "outputs": [],
   "source": [
    "def dataForGraph(daily, monthly, start, end):\n",
    "    dayY = []\n",
    "    monthY = []\n",
    "    for key, value in daily.items():\n",
    "        if(int(key) >= start and int(key) <= end):\n",
    "            for monthKey, monthValue in value.items():\n",
    "                for dayKey, dayValue in monthValue.items():\n",
    "                    dayY.append(int(dayValue['total']))\n",
    "                    \n",
    "    \n",
    "    \n",
    "    for key, value in monthly.items():\n",
    "        if(int(key) >= start and int(key) <= end):\n",
    "            for monthKey, monthValue in value.items():\n",
    "                monthY.append(float(monthValue['total']))\n",
    "    \n",
    "    smoothed = smoothedMeanByInterval(start,end,monthly)\n",
    "    smoothedY = []\n",
    "    for key, value in smoothed.items():\n",
    "        smoothedY.extend(value)\n",
    "    \n",
    "    return {\n",
    "        'day':dayY,\n",
    "        'month':monthY,\n",
    "        'smoothed':smoothedY\n",
    "    }\n",
    "                "
   ]
  },
  {
   "cell_type": "code",
   "execution_count": 167,
   "id": "1842b39e-3ab9-46b1-902f-07584ff72194",
   "metadata": {},
   "outputs": [
    {
     "name": "stdout",
     "output_type": "stream",
     "text": [
      "1236\n",
      "1212\n"
     ]
    }
   ],
   "source": [
    "data = dataForGraph(daily, monthly, 1900, 2000)"
   ]
  },
  {
   "cell_type": "code",
   "execution_count": 168,
   "id": "0aac2b31-f3ea-44e5-a62c-81ac3792d6d4",
   "metadata": {},
   "outputs": [
    {
     "data": {
      "image/png": "[encoded data removed]",
      "text/plain": [
       "<Figure size 640x480 with 3 Axes>"
      ]
     },
     "metadata": {},
     "output_type": "display_data"
    }
   ],
   "source": [
    "fig, ax = plt.subplots()\n",
    "ax.set_aspect('auto')\n",
    "ax.plot(data['day'], linewidth=.2, color=\"y\")\n",
    "\n",
    "ax2 = ax.twiny()\n",
    "ax2.plot(data['month'], linewidth=1, color=\"b\")\n",
    "fig.tight_layout()  # otherwise the right y-label is slightly clipped\n",
    "\n",
    "ax3 = ax.twiny()\n",
    "ax3.plot(data['smoothed'], linewidth=1, color=\"r\")\n",
    "fig.tight_layout()  # otherwise the right y-label is slightly clipped\n",
    "\n",
    "plt.show()"
   ]
  }
 ],
 "metadata": {
  "kernelspec": {
   "display_name": "Python 3 (ipykernel)",
   "language": "python",
   "name": "python3"
  },
  "language_info": {
   "codemirror_mode": {
    "name": "ipython",
    "version": 3
   },
   "file_extension": ".py",
   "mimetype": "text/x-python",
   "name": "python",
   "nbconvert_exporter": "python",
   "pygments_lexer": "ipython3",
   "version": "3.10.7"
  }
 },
 "nbformat": 4,
 "nbformat_minor": 5
}
